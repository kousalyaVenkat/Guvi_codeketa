{
  "nbformat": 4,
  "nbformat_minor": 0,
  "metadata": {
    "colab": {
      "provenance": []
    },
    "kernelspec": {
      "name": "python3",
      "display_name": "Python 3"
    },
    "language_info": {
      "name": "python"
    }
  },
  "cells": [
    {
      "cell_type": "markdown",
      "source": [
        "array"
      ],
      "metadata": {
        "id": "UsTVhZBbfh2B"
      }
    },
    {
      "cell_type": "markdown",
      "source": [
        "Given 2 arrays print 'yes' if they are mirror images of each other,otherwise 'no'.\n",
        "Input Size : N <= 1000000\n",
        "Sample Testcase :\n",
        "INPUT\n",
        "4\n",
        "1 2 3 4\n",
        "4 3 2 1\n",
        "OUTPUT\n",
        "yes"
      ],
      "metadata": {
        "id": "RKxxA2AX98Zm"
      }
    },
    {
      "cell_type": "code",
      "execution_count": null,
      "metadata": {
        "colab": {
          "base_uri": "https://localhost:8080/"
        },
        "id": "IC5K0_5R92NR",
        "outputId": "96cff282-aec2-48ff-fb71-291374cda3d2"
      },
      "outputs": [
        {
          "output_type": "stream",
          "name": "stdout",
          "text": [
            "4\n",
            "1 2 3 4\n",
            "[1, 2, 3, 4]\n",
            "4 3 2 1\n",
            "[4, 3, 2, 1]\n",
            "yes\n",
            "no\n",
            "no\n",
            "no\n",
            "yes\n",
            "no\n",
            "no\n",
            "no\n",
            "yes\n",
            "no\n",
            "no\n",
            "no\n",
            "yes\n",
            "no\n",
            "no\n",
            "no\n",
            "yes\n",
            "no\n",
            "no\n",
            "no\n"
          ]
        }
      ],
      "source": [
        "a=int(input())\n",
        "arr1=list(map(int,input().split()))\n",
        "print(arr1)\n",
        "arr2=list(map(int,input().split()))\n",
        "print(arr2)\n",
        "for i in range(len(arr1)):\n",
        "  for j in range(-1,len(arr2)):\n",
        "    if str(arr1[i])==str(arr2[j]):\n",
        "      print(\"yes\")\n",
        "    else:\n",
        "      print(\"no\")"
      ]
    },
    {
      "cell_type": "markdown",
      "source": [
        "You are given with two arrays. Your task is to merge the array such that first array is in ascending order and second one in descending order.\n",
        "\n",
        "Input Description:\n",
        "First line contains two integer ‘n’ and ‘m’. ‘n’ denotes length of array 1 and ‘m’ of array 2.Next line contains n space separated numbers and third line contains ‘m’ space separated numbers\n",
        "\n",
        "Output Description:\n",
        "Print a single array in desired order\n",
        "\n",
        "Sample Input :\n",
        "3 3\n",
        "23 15 16\n",
        "357 65 10\n",
        "Sample Output :\n",
        "15 16 23 357 65 10"
      ],
      "metadata": {
        "id": "Rz-0nlQpHYlc"
      }
    },
    {
      "cell_type": "code",
      "source": [
        "a=input()\n",
        "arr1=list(map(int,input().split()))\n",
        "arr2=list(map(int,input().split()))\n",
        "arr1.sort()\n",
        "arr2.sort(reverse=True)\n",
        "ans=arr1+arr2\n",
        "print(*ans)"
      ],
      "metadata": {
        "colab": {
          "base_uri": "https://localhost:8080/"
        },
        "id": "3rysVF2gHJWW",
        "outputId": "46a7fb33-5d2e-468f-9182-343bda61df9a"
      },
      "execution_count": null,
      "outputs": [
        {
          "output_type": "stream",
          "name": "stdout",
          "text": [
            "3 3\n",
            "23 15 16\n",
            "357 65 10\n",
            "15 16 23 357 65 10\n"
          ]
        }
      ]
    },
    {
      "cell_type": "markdown",
      "source": [
        "You are given with an circular array .Your task is calculate the difference between two consecutive number. And if difference is greater than ‘k’, print 1 else print 0\n",
        "\n",
        "Input Description:\n",
        "You are given two numbers ‘n’, ’m’. Next line contains n space separated integers.\n",
        "\n",
        "Output Description:\n",
        "Print 1 if the difference is greater than ‘m’.\n",
        "\n",
        "Sample Input :\n",
        "5 15\n",
        "50 65 85 98 35\n",
        "Sample Output :\n",
        "0 1 0 1 0"
      ],
      "metadata": {
        "id": "0M4H8lEcNREw"
      }
    },
    {
      "cell_type": "code",
      "source": [
        "n,k=map(int,input().split())\n",
        "a=list(map(int,input().split()))\n",
        "arr=[]\n",
        "for i in range(n-1):\n",
        "    if abs(a[i]-a[i+1]) > k:\n",
        "        arr.append(1)\n",
        "    else:\n",
        "        arr.append(0)\n",
        "arr1=a[-1]-a[0]\n",
        "if abs(arr1)>k:\n",
        "    arr.append(1)\n",
        "else:\n",
        "    arr.append(0)\n",
        "print(*arr)"
      ],
      "metadata": {
        "colab": {
          "base_uri": "https://localhost:8080/"
        },
        "id": "vWSbutPfNLRp",
        "outputId": "7a669d4c-3b0f-4104-cf64-7665049fac8c"
      },
      "execution_count": null,
      "outputs": [
        {
          "output_type": "stream",
          "name": "stdout",
          "text": [
            "5 15\n",
            "50 65 85 98 35\n",
            "0 1 0 1 0\n"
          ]
        }
      ]
    },
    {
      "cell_type": "markdown",
      "source": [
        "Loki wants to steal the tesseract but in order to do so, he has to rearrange the elements in an array in a specific manner which is mentioned in a clue. The clue says ‘cursed are the odd and sorted are the even’. Loki manages to decode the clue which translates to “sort the even positioned elements of an array, starting from the element at index 0, in ascending order”. Manipulate the array so as to help Loki steal the tesseract.\n",
        " \n",
        "\n",
        "Input Description:\n",
        "Size of the array followed by the elements of the array\n",
        "\n",
        "Output Description:\n",
        "Even index array elements sorted in ascending order\n",
        "\n",
        "Sample Input :\n",
        "5\n",
        "3 9 1 44 6\n",
        "Sample Output :\n",
        "1 9 3 44 6"
      ],
      "metadata": {
        "id": "ax2qe1BlEOlT"
      }
    },
    {
      "cell_type": "code",
      "source": [
        "a=int(input())\n",
        "arr=list(map(int,input().split()))\n",
        "evn=[]\n",
        "odd=[]\n",
        "arr1=[]\n",
        "for i in range(a):\n",
        "    if i % 2 == 0 or i == 0:\n",
        "        evn.append(arr[i])\n",
        "    elif i != 0 or i % 2 !=0:\n",
        "        odd.append(arr[i])\n",
        "evn.sort()\n",
        "for i in range(len(evn)):\n",
        "    arr1.append(evn[i])\n",
        "    if i<len(odd):\n",
        "        arr1.append(odd[i])\n",
        "print(*arr1)"
      ],
      "metadata": {
        "id": "-vf3kNo5NWIp"
      },
      "execution_count": null,
      "outputs": []
    },
    {
      "cell_type": "code",
      "source": [
        "a=int(input())\n",
        "arr=list(map(int,input().split()))\n",
        "evn=[]\n",
        "odd=[]\n",
        "arr1=[]\n",
        "for i in range(a):\n",
        "    if i % 2 == 0 or i == 0:\n",
        "        evn.append(arr[i])\n",
        "    elif i != 0 or i % 2 !=0:\n",
        "        odd.append(arr[i])\n",
        "evn.sort()\n",
        "\n",
        "for i in range(len(evn)):\n",
        "    arr1.append(evn[i])\n",
        "    if i<len(odd):\n",
        "        arr1.append(odd[i])\n",
        "print(*arr1)"
      ],
      "metadata": {
        "colab": {
          "base_uri": "https://localhost:8080/"
        },
        "id": "K3dcoNPnuoxP",
        "outputId": "78862176-d7fb-49a7-b63b-9509c0db6773"
      },
      "execution_count": null,
      "outputs": [
        {
          "output_type": "stream",
          "name": "stdout",
          "text": [
            "6\n",
            "12 44 23 16 1 62\n",
            "1 44 12 16 23 62\n"
          ]
        }
      ]
    },
    {
      "cell_type": "markdown",
      "source": [
        "7\n",
        "\n",
        "10 7 9 3 2 1 15\n",
        "\n",
        "7 3 3 2 1 -1 -1"
      ],
      "metadata": {
        "id": "GtC9N7YTHyFC"
      }
    },
    {
      "cell_type": "code",
      "source": [
        "a=int(input())\n",
        "arr=list(map(int,input().split()))\n",
        "c=[]\n",
        "for i in range(a):\n",
        "  value=0\n",
        "  for j in range(i,a):\n",
        "    if arr[i]>arr[j]:\n",
        "      value=arr[j]\n",
        "      break\n",
        "    else:\n",
        "      value=-1\n",
        "  c.append(value)\n",
        "print(*c)\n"
      ],
      "metadata": {
        "colab": {
          "base_uri": "https://localhost:8080/"
        },
        "id": "dzKknZs1H5wL",
        "outputId": "af0c8174-e887-4572-b25a-523695951504"
      },
      "execution_count": null,
      "outputs": [
        {
          "output_type": "stream",
          "name": "stdout",
          "text": [
            "7\n",
            "10 7 9 3 2 1 15\n",
            "7 3 3 2 1 -1 -1\n"
          ]
        }
      ]
    },
    {
      "cell_type": "code",
      "source": [
        "def CountTriplets(arr, n):\n",
        "    cnt = 0\n",
        "    for i in range(0, n):\n",
        "        for j in range(i + 1, n):\n",
        "            for k in range(j + 1, n):\n",
        "                if (arr[k] < arr[i] and arr[i] < arr[j]):\n",
        "                    cnt += 1;\n",
        "    return cnt\n",
        "n=int(input())\n",
        "arr = list(map(int,input().split()))\n",
        "n =len(arr)\n",
        "print(CountTriplets(arr, n))"
      ],
      "metadata": {
        "colab": {
          "base_uri": "https://localhost:8080/"
        },
        "id": "MdxONypixe0Y",
        "outputId": "f8a999aa-d050-4643-90ea-61427fd4db40"
      },
      "execution_count": null,
      "outputs": [
        {
          "output_type": "stream",
          "name": "stdout",
          "text": [
            "4\n",
            "1 2 3 4\n",
            "0\n"
          ]
        }
      ]
    },
    {
      "cell_type": "markdown",
      "source": [
        "searching"
      ],
      "metadata": {
        "id": "7Mf2xxnUfnTY"
      }
    },
    {
      "cell_type": "code",
      "source": [
        "a=int(input())\n",
        "l=input().split()\n",
        "length=len(l)\n",
        "length\n",
        "total_p=[]\n",
        "count=0\n",
        "for i in range(len(l)):\n",
        "  #  print(i)\n",
        "   if l[i]=='P':\n",
        "     count+=1\n",
        "     total_p.append('P')\n",
        "# print(total_p)\n",
        "# print(count)\n",
        "percentage=(count/length)*100\n",
        "percentage\n",
        "if percentage>25:\n",
        "  print('Not Blacklisted')\n",
        "else:\n",
        "  print('Blacklisted')\n"
      ],
      "metadata": {
        "colab": {
          "base_uri": "https://localhost:8080/"
        },
        "id": "RImoOZnCfm58",
        "outputId": "db867e84-398c-4f83-c7f5-4b624969fd52"
      },
      "execution_count": 23,
      "outputs": [
        {
          "output_type": "stream",
          "name": "stdout",
          "text": [
            "5\n",
            "P P A A A\n",
            "Not Blacklisted\n"
          ]
        }
      ]
    },
    {
      "cell_type": "code",
      "source": [
        "n = 2\n",
        "m = 5\n",
        "val = [0] * n\n",
        "for x in range (n):\n",
        "    val[x] = [0] * m\n",
        "print(val)"
      ],
      "metadata": {
        "colab": {
          "base_uri": "https://localhost:8080/"
        },
        "id": "v0p70ZVbxap0",
        "outputId": "3477a9b1-283f-4138-8af5-e7bfec6ef1a7"
      },
      "execution_count": 24,
      "outputs": [
        {
          "output_type": "stream",
          "name": "stdout",
          "text": [
            "[[0, 0, 0, 0, 0], [0, 0, 0, 0, 0]]\n"
          ]
        }
      ]
    },
    {
      "cell_type": "code",
      "source": [
        "import numpy as np\n",
        "n,m=input().split()\n",
        "matrix=np.array([[2,3,0,7,1],[5,3,4,1,8]])\n",
        "k=11\n",
        "if k in matrix:\n",
        "  print(\"Yes\")\n",
        "else:\n",
        "  print(\"No\")"
      ],
      "metadata": {
        "colab": {
          "base_uri": "https://localhost:8080/"
        },
        "id": "WSIoUx7jxpqV",
        "outputId": "9ba362e2-50d6-447d-b5a9-2a020e4e365a"
      },
      "execution_count": 27,
      "outputs": [
        {
          "output_type": "stream",
          "name": "stdout",
          "text": [
            "2 5\n",
            "No\n"
          ]
        }
      ]
    },
    {
      "cell_type": "markdown",
      "source": [],
      "metadata": {
        "id": "NvpKvwSZptTS"
      }
    },
    {
      "cell_type": "code",
      "source": [
        "a=int(input())\n",
        "arr1=list(map(int,input().split()))\n",
        "ans=[]\n",
        "for i in range(len(arr1)):\n",
        "   ans.append(arr1.count(arr1[i]))\n",
        "print(ans)\n",
        "for i in range(len(arr1)):\n",
        "  for j in range(len(ans)):\n",
        "    if ans[j]==1:\n",
        "      print(arr1[j])\n",
        "  break\n"
      ],
      "metadata": {
        "colab": {
          "base_uri": "https://localhost:8080/"
        },
        "id": "JAYvWTvqRQa-",
        "outputId": "5359a65e-64e6-4724-e1f4-3c37053d51e4"
      },
      "execution_count": 28,
      "outputs": [
        {
          "output_type": "stream",
          "name": "stdout",
          "text": [
            "8\n",
            "9 8 1 1 8 7 9 9\n",
            "[3, 2, 2, 2, 2, 1, 3, 3]\n",
            "7\n"
          ]
        }
      ]
    },
    {
      "cell_type": "markdown",
      "source": [
        "Sensex has never been steady and stock values have been rising and falling in the past. Ram is a stock broker and on analysing the trend of change in sensex points, he decides that there was a period when the points was at its all time high and investing during that period would have earned him a huge profit in trade. Ram immediately regrets not having done any trade in that particular period. Find out which period in time was Ram referring to.\n",
        "\n",
        "Constraints:\n",
        "3 ≤ N ≤ 106\n",
        " \n",
        "\n",
        "Input Description:\n",
        "The size of array N, the number of periods Ram has assessed. The values of the array are the values of the sensex points.\n",
        "\n",
        "Output Description:\n",
        "Period in which the points was at its max value. The array index is the period value."
      ],
      "metadata": {
        "id": "-TKW1baEZ5SG"
      }
    },
    {
      "cell_type": "code",
      "source": [
        "u=int(input())\n",
        "arr2=list(map(int,input().split()))\n",
        "maxi=(max(arr2))\n",
        "for i in range(len(arr2)):\n",
        "  if arr2[i]==maxi:\n",
        "    print(i)"
      ],
      "metadata": {
        "colab": {
          "base_uri": "https://localhost:8080/"
        },
        "id": "nGhvcplkWhy4",
        "outputId": "d5f527ca-bead-404e-e631-a5417d64b742"
      },
      "execution_count": 32,
      "outputs": [
        {
          "output_type": "stream",
          "name": "stdout",
          "text": [
            "9\n",
            "1 15 25 45 42 21 17 12 11\n",
            "3\n"
          ]
        }
      ]
    },
    {
      "cell_type": "code",
      "source": [
        "a=int(input())\n",
        "arr1=list(map(int,input().split()))\n",
        "b=int(input())\n",
        "print(round(sum(arr1)/b))"
      ],
      "metadata": {
        "colab": {
          "base_uri": "https://localhost:8080/"
        },
        "id": "VCM2LNEJay5f",
        "outputId": "3c4d6078-5331-40ee-990b-13bf2c4aa444"
      },
      "execution_count": 41,
      "outputs": [
        {
          "output_type": "stream",
          "name": "stdout",
          "text": [
            "4\n",
            "12 34 67 90\n",
            "2\n",
            "102\n"
          ]
        }
      ]
    },
    {
      "cell_type": "markdown",
      "source": [
        "The prison warden at Central jail is given a tip-off that a prison inmate is planning an escape. The warden suspects a particular prisoner of planning an escape and wants to find out if he/she is present in his/her cell. The layout of the prison is modelled in a matrix with every cell of the matrix representing a prison cell. The matrix is filled with the prisoner ids at the corresponding cells. Find out whether the person the warden suspects is present in the prison or not.\n",
        " \n",
        "\n",
        "Input Description:\n",
        "First line contains the dimensions of the prison matrix, followed by the ids of prisoners as elements of the matrix. The third line contains the id to be searched.\n",
        "\n",
        "Output Description:\n",
        "(yes/no) whether the given element is present in the matrix or not.\n",
        "\n",
        "Sample Input :\n",
        "2 5\n",
        "2 3 0 7 1 5 3 4 1 8\n",
        "11\n",
        "Sample Output :\n",
        "no"
      ],
      "metadata": {
        "id": "aedU_TCRpiNy"
      }
    },
    {
      "cell_type": "code",
      "source": [
        "n,m=input().split()\n",
        "matrix=list(map(int,input().split()))\n",
        "k=int(input())\n",
        "if k in matrix:\n",
        "  print(\"yes\")\n",
        "else:\n",
        "  print(\"no\")"
      ],
      "metadata": {
        "colab": {
          "base_uri": "https://localhost:8080/"
        },
        "id": "kEzBSK3MkbOV",
        "outputId": "181000f3-5920-4bd8-8343-90746962dd84"
      },
      "execution_count": 42,
      "outputs": [
        {
          "output_type": "stream",
          "name": "stdout",
          "text": [
            "2 5\n",
            "2 3 0 7 1 5 3 4 1 8\n",
            "11\n",
            "no\n"
          ]
        }
      ]
    },
    {
      "cell_type": "markdown",
      "source": [
        "Ria is always fascinated by the number 2. She always wants to know who came second in a race, the second person to set foot on the moon and so on. She is given a list of numbers and asked to find the maximum. As always, she reports the second highest number as the maximum because according to her, 2 is higher than 1. Find out which was the number that Ria would have reported, given a list of N numbers.\n",
        " \n",
        "\n",
        "Input Description:\n",
        "Size of the array followed by the elements of the array.\n",
        "\n",
        "Output Description:\n",
        "Second largest element of the array.\n",
        "\n",
        "Sample Input :\n",
        "10\n",
        "1 9 8 7 6 5 2 3 4 10\n",
        "Sample Output :\n",
        "9"
      ],
      "metadata": {
        "id": "XTuCIkWRpx7q"
      }
    },
    {
      "cell_type": "code",
      "source": [
        "a=int(input())\n",
        "arr1=list(map(int,input().split()))\n",
        "arr1.sort()\n",
        "n=len(arr1)\n",
        "for i in range(n-2,-1,-1):\n",
        "    if arr1[i]!=arr1[n-1]:\n",
        "        print(arr1[i])\n",
        "    break"
      ],
      "metadata": {
        "colab": {
          "base_uri": "https://localhost:8080/"
        },
        "id": "XQ8GuhdVoCdQ",
        "outputId": "8044f847-5b50-4559-bec7-040b69bb9cee"
      },
      "execution_count": 47,
      "outputs": [
        {
          "output_type": "stream",
          "name": "stdout",
          "text": [
            "10\n",
            "1 9 8 7 6 5 2 3 4 10\n",
            "9\n"
          ]
        }
      ]
    },
    {
      "cell_type": "markdown",
      "source": [],
      "metadata": {
        "id": "LgHfVnlTq4MR"
      }
    },
    {
      "cell_type": "markdown",
      "source": [
        "Prakash is bored and wants to spends his time. He starts rolling a die (having the face values as 1, 2, 3, 4, 8, 15, 7, 9) and observes that some of the values keep repeating. Also while rolling n times, some face appear once only. Find the number on its face.\n",
        "\n",
        "Constraints\n",
        "\n",
        "0 <   N  <= 100\n",
        "\n",
        "0 <= A[i] <= 100\n",
        "\n",
        " \n",
        "\n",
        "Input Description:\n",
        "The first line contains a positive integer N, denoting the size of the array. The second line contains N positive integers, denoting the face values that appeared when the die was rolled.\n",
        "\n",
        "Output Description:\n",
        "Print out the singly occurring number. print 0 if no numbers are repeating.\n",
        "\n",
        "Sample Input :\n",
        "5\n",
        "1 1 2 5 5\n",
        "Sample Output :\n",
        "2"
      ],
      "metadata": {
        "id": "HgQnspht_n3P"
      }
    },
    {
      "cell_type": "code",
      "source": [
        "a=5\n",
        "arr=[1,1,2,5,5]\n",
        "a=[]\n",
        "for i in range(len(arr)):\n",
        "      a.append(arr.count(arr[i]))\n",
        "print(a)\n",
        "for i in range(len(arr)):\n",
        "  for j in range(len(a)):\n",
        "      if a[j] == 1:\n",
        "           print(arr[j])\n",
        "  break\n",
        "\n",
        "\n"
      ],
      "metadata": {
        "colab": {
          "base_uri": "https://localhost:8080/"
        },
        "id": "swTk-3Goq33E",
        "outputId": "35eeac67-7800-4dd4-abde-5f118b6facc3"
      },
      "execution_count": 58,
      "outputs": [
        {
          "output_type": "stream",
          "name": "stdout",
          "text": [
            "[2, 2, 1, 2, 2]\n",
            "2\n"
          ]
        }
      ]
    }
  ]
}